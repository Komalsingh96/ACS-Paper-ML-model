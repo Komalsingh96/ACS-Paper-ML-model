{
  "cells": [
    {
      "cell_type": "code",
      "execution_count": null,
      "metadata": {
        "id": "CQPy5j5ByXBs"
      },
      "outputs": [],
      "source": [
        "import pandas as pd\n",
        "import numpy as np\n",
        "import matplotlib.pyplot as plt\n",
        "import sklearn\n",
        "import seaborn as sns\n",
        "import matplotlib.pyplot as plt\n",
        "plt.style.use(\"seaborn\")\n",
        "import warnings\n",
        "warnings.filterwarnings('ignore')"
      ]
    },
    {
      "cell_type": "code",
      "execution_count": null,
      "metadata": {
        "id": "v3BM4tHVzAXp"
      },
      "outputs": [],
      "source": [
        "from sklearn.model_selection import train_test_split\n",
        "from sklearn.feature_selection import RFE\n",
        "from sklearn import svm\n",
        "from sklearn.svm import SVR\n",
        "from sklearn.ensemble import RandomForestRegressor\n",
        "from sklearn.feature_selection import SelectFromModel\n",
        "from sklearn.metrics import accuracy_score\n",
        "from sklearn.metrics import mean_absolute_error, mean_squared_error, explained_variance_score, r2_score\n",
        "from sklearn.preprocessing import StandardScaler\n",
        "from sklearn.pipeline import Pipeline"
      ]
    },
    {
      "cell_type": "code",
      "execution_count": null,
      "metadata": {
        "colab": {
          "base_uri": "https://localhost:8080/"
        },
        "id": "GWtdKuGrzC34",
        "outputId": "3e3040a4-a66c-4af9-9a2f-f8575048a089"
      },
      "outputs": [
        {
          "output_type": "stream",
          "name": "stdout",
          "text": [
            "Mounted at /content/drive\n"
          ]
        }
      ],
      "source": [
        "from google.colab import drive\n",
        "drive.mount('/content/drive')"
      ]
    },
    {
      "cell_type": "code",
      "execution_count": null,
      "metadata": {
        "id": "UIT87jctFKQq"
      },
      "outputs": [],
      "source": [
        "seed = 42"
      ]
    },
    {
      "cell_type": "code",
      "execution_count": null,
      "metadata": {
        "id": "NePsFWOL0ozD"
      },
      "outputs": [],
      "source": [
        "df = pd.read_excel(r\"/content/drive/MyDrive/MPHARM/00_MPH/Final/RFR_top 50.xlsx\")\n",
        "df"
      ]
    },
    {
      "cell_type": "code",
      "execution_count": null,
      "metadata": {
        "id": "U1d5lZCD02Z6"
      },
      "outputs": [],
      "source": [
        "print(df.columns)"
      ]
    },
    {
      "cell_type": "code",
      "execution_count": null,
      "metadata": {
        "id": "ZPAHZXtd04nk"
      },
      "outputs": [],
      "source": [
        "df.info()"
      ]
    },
    {
      "cell_type": "code",
      "execution_count": null,
      "metadata": {
        "id": "J3spR_0L07Y1"
      },
      "outputs": [],
      "source": [
        "df.isnull()"
      ]
    },
    {
      "cell_type": "code",
      "execution_count": null,
      "metadata": {
        "id": "LbFc8rpk09xy"
      },
      "outputs": [],
      "source": [
        "df.isnull().sum()"
      ]
    },
    {
      "cell_type": "code",
      "execution_count": null,
      "metadata": {
        "id": "SIBSWCfp1AxS"
      },
      "outputs": [],
      "source": [
        "df.isnull().sum().sum()"
      ]
    },
    {
      "cell_type": "code",
      "execution_count": null,
      "metadata": {
        "id": "ohmgQ0Ug1DgP"
      },
      "outputs": [],
      "source": [
        "df2 = df.fillna(value = 0) \n",
        "df2"
      ]
    },
    {
      "cell_type": "code",
      "execution_count": null,
      "metadata": {
        "id": "SDj7EZGd1F2N"
      },
      "outputs": [],
      "source": [
        "df2.isnull().sum().sum()"
      ]
    },
    {
      "cell_type": "code",
      "execution_count": null,
      "metadata": {
        "id": "0Y1Vrckg1H_k"
      },
      "outputs": [],
      "source": [
        "df2.info()"
      ]
    },
    {
      "cell_type": "code",
      "execution_count": null,
      "metadata": {
        "id": "Ad5uskvk1KtU"
      },
      "outputs": [],
      "source": [
        "df2.describe()"
      ]
    },
    {
      "cell_type": "code",
      "execution_count": null,
      "metadata": {
        "id": "TgLYGtTC1NMb"
      },
      "outputs": [],
      "source": [
        "df2.head()"
      ]
    },
    {
      "cell_type": "code",
      "execution_count": null,
      "metadata": {
        "id": "fFQxTVY41Phu"
      },
      "outputs": [],
      "source": [
        "df2.describe().T"
      ]
    },
    {
      "cell_type": "code",
      "execution_count": null,
      "metadata": {
        "id": "9efPo9TN1R97"
      },
      "outputs": [],
      "source": [
        "X = df2.drop(['pCC50'],axis = 1)\n",
        "X"
      ]
    },
    {
      "cell_type": "code",
      "execution_count": null,
      "metadata": {
        "id": "dp5gIUrQ1UTZ"
      },
      "outputs": [],
      "source": [
        "Y = df2.pCC50\n",
        "Y"
      ]
    },
    {
      "cell_type": "code",
      "execution_count": null,
      "metadata": {
        "id": "n10ta8te1Wfi"
      },
      "outputs": [],
      "source": [
        "X.shape"
      ]
    },
    {
      "cell_type": "code",
      "execution_count": null,
      "metadata": {
        "id": "2e3LPtfm1Yf5"
      },
      "outputs": [],
      "source": [
        "Y.shape"
      ]
    },
    {
      "cell_type": "code",
      "execution_count": null,
      "metadata": {
        "id": "x7FZtBvw1abV"
      },
      "outputs": [],
      "source": [
        "corr = df2.corr()"
      ]
    },
    {
      "cell_type": "code",
      "execution_count": null,
      "metadata": {
        "id": "6FN_2-2-1cc0"
      },
      "outputs": [],
      "source": [
        "corr"
      ]
    },
    {
      "cell_type": "code",
      "execution_count": null,
      "metadata": {
        "id": "PeDFrw5P1fk-"
      },
      "outputs": [],
      "source": [
        "corr.style.background_gradient(cmap='coolwarm')"
      ]
    },
    {
      "cell_type": "code",
      "execution_count": null,
      "metadata": {
        "id": "XzqZ4Ucr1kED"
      },
      "outputs": [],
      "source": [
        "X_train, X_test, Y_train, Y_test = train_test_split(X, Y, test_size=.20, random_state=seed)"
      ]
    },
    {
      "cell_type": "code",
      "execution_count": null,
      "metadata": {
        "id": "j-FDBYGY15SX"
      },
      "outputs": [],
      "source": [
        "print(X_train.shape,X_test.shape, Y_train.shape, Y_test.shape)"
      ]
    },
    {
      "cell_type": "code",
      "execution_count": null,
      "metadata": {
        "id": "4gWzfbVF17ch"
      },
      "outputs": [],
      "source": [
        "X_train"
      ]
    },
    {
      "cell_type": "code",
      "execution_count": null,
      "metadata": {
        "id": "vYDrp0v1192T"
      },
      "outputs": [],
      "source": [
        "Y_train"
      ]
    },
    {
      "cell_type": "code",
      "execution_count": null,
      "metadata": {
        "id": "qEOn49dx2AOY"
      },
      "outputs": [],
      "source": [
        "X_test"
      ]
    },
    {
      "cell_type": "code",
      "execution_count": null,
      "metadata": {
        "id": "FLwhYVSe2C23"
      },
      "outputs": [],
      "source": [
        "Y_test"
      ]
    },
    {
      "cell_type": "code",
      "execution_count": null,
      "metadata": {
        "id": "sM5mjrXu2FO8"
      },
      "outputs": [],
      "source": [
        "df2.hist(bins = 50, figsize=(20,15))\n",
        "plt.savefig('figrfr1.png')\n",
        "plt.show()"
      ]
    },
    {
      "cell_type": "code",
      "execution_count": null,
      "metadata": {
        "id": "Ek7_i8WV2OA5"
      },
      "outputs": [],
      "source": [
        "model = RandomForestRegressor(random_state=seed)"
      ]
    },
    {
      "cell_type": "code",
      "execution_count": null,
      "metadata": {
        "id": "tK600Cmv2QU3"
      },
      "outputs": [],
      "source": [
        "model.fit(X_train, Y_train)"
      ]
    },
    {
      "cell_type": "code",
      "execution_count": null,
      "metadata": {
        "id": "hIzwvvP02Sa9"
      },
      "outputs": [],
      "source": [
        "Y_train_pred = model.predict(X_train)"
      ]
    },
    {
      "cell_type": "code",
      "execution_count": null,
      "metadata": {
        "id": "iWGxh0vu2Uro"
      },
      "outputs": [],
      "source": [
        "print(Y_train_pred)"
      ]
    },
    {
      "cell_type": "code",
      "execution_count": null,
      "metadata": {
        "id": "n7qCeWC12m3m"
      },
      "outputs": [],
      "source": [
        "predictions1 = pd.DataFrame({'Y_train' : Y_train, 'Y_train_pred' : Y_train_pred})"
      ]
    },
    {
      "cell_type": "code",
      "execution_count": null,
      "metadata": {
        "id": "ezr21B1p2iGZ"
      },
      "outputs": [],
      "source": [
        "predictions1"
      ]
    },
    {
      "cell_type": "code",
      "execution_count": null,
      "metadata": {
        "id": "A13F9pMP2r0I"
      },
      "outputs": [],
      "source": [
        "len(Y_train_pred)"
      ]
    },
    {
      "cell_type": "code",
      "execution_count": null,
      "metadata": {
        "id": "i0SxQDG42ukK"
      },
      "outputs": [],
      "source": [
        "print('The training r_sq is: %.4f'% model.score(X_train, Y_train))"
      ]
    },
    {
      "cell_type": "code",
      "execution_count": null,
      "metadata": {
        "id": "uKSEKGvb2x0W"
      },
      "outputs": [],
      "source": [
        "print('The MAE is: %.4f'% mean_absolute_error(Y_train, Y_train_pred))"
      ]
    },
    {
      "cell_type": "code",
      "execution_count": null,
      "metadata": {
        "id": "_TOvlQxw21Gm"
      },
      "outputs": [],
      "source": [
        "print('The RMSE is: %.4f'% np.sqrt(mean_squared_error(Y_train, Y_train_pred)))"
      ]
    },
    {
      "cell_type": "code",
      "execution_count": null,
      "metadata": {
        "id": "0_zOJoMH286E"
      },
      "outputs": [],
      "source": [
        "print('The EVS is: %.4f'% explained_variance_score(Y_train, Y_train_pred))"
      ]
    },
    {
      "cell_type": "code",
      "execution_count": null,
      "metadata": {
        "id": "f8g7owQN3oER"
      },
      "outputs": [],
      "source": [
        "plt.rcParams['figure.figsize'] = 10,6\n",
        "x_ax = range(len(X_train))\n",
        "plt.plot(x_ax, Y_train, label = 'Observed', color = 'k', linestyle = '-')\n",
        "plt.plot(x_ax, Y_train_pred, label = 'Predicted', color = 'k', linestyle = '--')\n",
        "plt.ylabel('pCC50')\n",
        "plt.xlabel('Experimental Run')\n",
        "plt.legend(bbox_to_anchor = (0.5, -0.2), loc = 'lower center', ncol = 2, frameon = False)"
      ]
    },
    {
      "cell_type": "code",
      "execution_count": null,
      "metadata": {
        "id": "U7bOWbMi3rDZ"
      },
      "outputs": [],
      "source": [
        "Y_test_pred = model.predict(X_test)"
      ]
    },
    {
      "cell_type": "code",
      "execution_count": null,
      "metadata": {
        "id": "T8feU65K3tMG"
      },
      "outputs": [],
      "source": [
        "Y_test_pred"
      ]
    },
    {
      "cell_type": "code",
      "execution_count": null,
      "metadata": {
        "id": "KE0e38Hc3vuu"
      },
      "outputs": [],
      "source": [
        "len(Y_test_pred)"
      ]
    },
    {
      "cell_type": "code",
      "execution_count": null,
      "metadata": {
        "id": "AdWK48pd3y-L"
      },
      "outputs": [],
      "source": [
        "predictions2 = pd.DataFrame({'Y_test' : Y_test, 'Y_test_pred' : Y_test_pred})"
      ]
    },
    {
      "cell_type": "code",
      "execution_count": null,
      "metadata": {
        "id": "_EYt8iNQ31GK"
      },
      "outputs": [],
      "source": [
        "predictions2"
      ]
    },
    {
      "cell_type": "code",
      "execution_count": null,
      "metadata": {
        "id": "AyNB0Uzz39CU"
      },
      "outputs": [],
      "source": [
        "print('The testing r_sq is: %.4f'% r2_score(Y_test, Y_test_pred))"
      ]
    },
    {
      "cell_type": "code",
      "execution_count": null,
      "metadata": {
        "id": "GkyE7t4a4EZR"
      },
      "outputs": [],
      "source": [
        "print('The testing r_sq is: %.4f'% model.score(X_test, Y_test))"
      ]
    },
    {
      "cell_type": "code",
      "execution_count": null,
      "metadata": {
        "id": "Kml7mFAh4G1A"
      },
      "outputs": [],
      "source": [
        "print('The MAE is: %.4f'% mean_absolute_error(Y_test, Y_test_pred))"
      ]
    },
    {
      "cell_type": "code",
      "execution_count": null,
      "metadata": {
        "id": "pw4K-2224KKB"
      },
      "outputs": [],
      "source": [
        "print('The RMSE is: %.4f'% np.sqrt(mean_squared_error(Y_test, Y_test_pred)))"
      ]
    },
    {
      "cell_type": "code",
      "execution_count": null,
      "metadata": {
        "id": "0g5QwNfi4MJy"
      },
      "outputs": [],
      "source": [
        "print('The EVS is: %.4f'% explained_variance_score(Y_test, Y_test_pred))"
      ]
    },
    {
      "cell_type": "code",
      "execution_count": null,
      "metadata": {
        "id": "sWR4eHgq4TTe"
      },
      "outputs": [],
      "source": [
        "plt.rcParams['figure.figsize'] = 10,6\n",
        "x_ax = range(len(X_test))\n",
        "plt.plot(x_ax, Y_test, label = 'Observed', color = 'k', linestyle = '-')\n",
        "plt.plot(x_ax, Y_test_pred, label = 'Predicted', color = 'k', linestyle = '--')\n",
        "plt.ylabel('pCC50')\n",
        "plt.xlabel('Experimental Run')\n",
        "plt.legend(bbox_to_anchor = (0.5, -0.2), loc = 'lower center', ncol = 2, frameon = False)"
      ]
    },
    {
      "cell_type": "code",
      "execution_count": null,
      "metadata": {
        "id": "lvrN-t0R4Vhq"
      },
      "outputs": [],
      "source": [
        "from yellowbrick.regressor import PredictionError\n",
        "visualizer = PredictionError(model)\n",
        "visualizer.fit(X_train, Y_train)\n",
        "visualizer.score(X_test, Y_test)\n",
        "visualizer.poof()"
      ]
    },
    {
      "cell_type": "code",
      "execution_count": null,
      "metadata": {
        "id": "eTZwfpe-4Xpk"
      },
      "outputs": [],
      "source": [
        "from yellowbrick.regressor import ResidualsPlot\n",
        "visualizer = ResidualsPlot(model)\n",
        "visualizer.fit(X_train, Y_train)\n",
        "visualizer.score(X_test, Y_test)\n",
        "visualizer.poof()"
      ]
    },
    {
      "cell_type": "code",
      "execution_count": null,
      "metadata": {
        "id": "4-frku04XA52"
      },
      "outputs": [],
      "source": [
        "sns.scatterplot(x=Y_train, y=Y_train_pred, alpha=0.6)\n",
        "sns.lineplot(x=Y_train, y=Y_train)\n",
        "plt.xlabel('Actual', fontsize = 14)\n",
        "plt.ylabel('Predicted', fontsize = 14)\n",
        "plt.title('Actual vs Predicted', fontsize = 17)\n",
        "plt.show()"
      ]
    },
    {
      "cell_type": "code",
      "execution_count": null,
      "metadata": {
        "id": "l1tHjKS74Z37"
      },
      "outputs": [],
      "source": [
        "sns.scatterplot(x=Y_test, y=Y_test_pred, alpha=0.6)\n",
        "sns.lineplot(x=Y_test, y=Y_test)\n",
        "plt.xlabel('Actual', fontsize = 14)\n",
        "plt.ylabel('Predicted', fontsize = 14)\n",
        "plt.title('Actual vs Predicted', fontsize = 17)\n",
        "plt.show()"
      ]
    },
    {
      "cell_type": "code",
      "execution_count": null,
      "metadata": {
        "id": "G7OefKvB4btJ"
      },
      "outputs": [],
      "source": [
        "model.score(X_test, Y_test)"
      ]
    },
    {
      "cell_type": "code",
      "execution_count": null,
      "metadata": {
        "id": "dAEz_4aM4eXE"
      },
      "outputs": [],
      "source": [
        "MSE_test = round(np.mean(np.square(Y_test - Y_test_pred)),2)\n",
        "RMSE_test = round(np.sqrt(MSE_test),2)\n",
        "RMSE_test"
      ]
    },
    {
      "cell_type": "code",
      "execution_count": null,
      "metadata": {
        "id": "XckKRs5M6mBQ"
      },
      "outputs": [],
      "source": [
        "my_param_grid = {'n_estimators':[10, 100, 500], 'max_features':['sqrt', 'log2'], 'max_depth': [5,10,20]} "
      ]
    },
    {
      "cell_type": "code",
      "execution_count": null,
      "metadata": {
        "id": "VH1jtkGs6ood"
      },
      "outputs": [],
      "source": [
        "from sklearn.model_selection import GridSearchCV"
      ]
    },
    {
      "cell_type": "code",
      "execution_count": null,
      "metadata": {
        "id": "97cU-R7C6rXc"
      },
      "outputs": [],
      "source": [
        "GridSearchCV(estimator=RandomForestRegressor(random_state=seed), param_grid = my_param_grid, refit = True, verbose = 3, cv=5)"
      ]
    },
    {
      "cell_type": "code",
      "execution_count": null,
      "metadata": {
        "id": "AdluCDs56uE3"
      },
      "outputs": [],
      "source": [
        "grid = GridSearchCV(estimator=RandomForestRegressor(random_state=seed), param_grid = my_param_grid, refit = True, verbose = 3, cv=5)"
      ]
    },
    {
      "cell_type": "code",
      "execution_count": null,
      "metadata": {
        "id": "-oFDUbHG6wpD"
      },
      "outputs": [],
      "source": [
        "grid.fit(X_train, Y_train)"
      ]
    },
    {
      "cell_type": "code",
      "execution_count": null,
      "metadata": {
        "id": "KgGftEhc6zPU"
      },
      "outputs": [],
      "source": [
        "grid.best_params_"
      ]
    },
    {
      "cell_type": "code",
      "execution_count": null,
      "metadata": {
        "id": "-Pwwmyeh6_Jh"
      },
      "outputs": [],
      "source": [
        "Y_test_optimised = grid.predict(X_test)"
      ]
    },
    {
      "cell_type": "code",
      "execution_count": null,
      "metadata": {
        "id": "jOpwqkAV7A-X"
      },
      "outputs": [],
      "source": [
        "Y_test_optimised"
      ]
    },
    {
      "cell_type": "code",
      "execution_count": null,
      "metadata": {
        "id": "K_0lLtK17C70"
      },
      "outputs": [],
      "source": [
        "predictions2['Y_test_optimised'] = Y_test_optimised\n",
        "predictions2.head()"
      ]
    },
    {
      "cell_type": "code",
      "execution_count": null,
      "metadata": {
        "id": "ZJE_T2pS7FHx"
      },
      "outputs": [],
      "source": [
        "sns.scatterplot(x=Y_test, y=Y_test_optimised, alpha=0.6)\n",
        "sns.lineplot(x=Y_test, y=Y_test)\n",
        "plt.xlabel('Actual count', fontsize = 14)\n",
        "plt.ylabel('Predicted count', fontsize = 14)\n",
        "plt.title('Actual vs Optimised Predicted', fontsize = 17)\n",
        "plt.show()"
      ]
    },
    {
      "cell_type": "code",
      "execution_count": null,
      "metadata": {
        "id": "ZDUVlv-n7HRK"
      },
      "outputs": [],
      "source": [
        "grid.score(X_test, Y_test)"
      ]
    },
    {
      "cell_type": "code",
      "execution_count": null,
      "metadata": {
        "id": "8-ajjpc97KMa"
      },
      "outputs": [],
      "source": [
        "MSE_test = round(np.mean(np.square(Y_test - Y_test_optimised)),2)\n",
        "RMSE_test = round(np.sqrt(MSE_test),2)\n",
        "RMSE_test"
      ]
    },
    {
      "cell_type": "code",
      "execution_count": null,
      "metadata": {
        "id": "abS3yBFy7McO"
      },
      "outputs": [],
      "source": [
        "print('The testing r_sq is: %.4f'% model.score(X_test, Y_test_optimised))"
      ]
    },
    {
      "cell_type": "code",
      "execution_count": null,
      "metadata": {
        "id": "JI24eD9b7OWK"
      },
      "outputs": [],
      "source": [
        "print('The MAE is: %.4f'% mean_absolute_error(Y_test, Y_test_optimised))"
      ]
    },
    {
      "cell_type": "code",
      "execution_count": null,
      "metadata": {
        "id": "Tg27LXlG7QIc"
      },
      "outputs": [],
      "source": [
        "print('The RMSE is: %.4f'% np.sqrt(mean_squared_error(Y_test, Y_test_optimised)))"
      ]
    },
    {
      "cell_type": "code",
      "execution_count": null,
      "metadata": {
        "id": "nxQAYWu27Rr2"
      },
      "outputs": [],
      "source": [
        "print('The EVS is: %.4f'% explained_variance_score(Y_test, Y_test_optimised))"
      ]
    },
    {
      "cell_type": "code",
      "execution_count": null,
      "metadata": {
        "id": "1xHln09Q7T-6"
      },
      "outputs": [],
      "source": [
        "plt.rcParams['figure.figsize'] = 10,6\n",
        "x_ax = range(len(X_test))\n",
        "plt.plot(x_ax, Y_test, label = 'Observed', color = 'k', linestyle = '-')\n",
        "plt.plot(x_ax, Y_test_optimised, label = 'Optimised Predicted', color = 'k', linestyle = '--')\n",
        "plt.ylabel('pCC50')\n",
        "plt.xlabel('Experimental Run')\n",
        "plt.legend(bbox_to_anchor = (0.5, -0.2), loc = 'lower center', ncol = 2, frameon = False)"
      ]
    },
    {
      "cell_type": "code",
      "execution_count": null,
      "metadata": {
        "id": "t7sD0fD97s3B"
      },
      "outputs": [],
      "source": [
        "Y_train_optimised = grid.predict(X_train)"
      ]
    },
    {
      "cell_type": "code",
      "execution_count": null,
      "metadata": {
        "id": "-WrQkI6j7u1P"
      },
      "outputs": [],
      "source": [
        "Y_train_optimised"
      ]
    },
    {
      "cell_type": "code",
      "execution_count": null,
      "metadata": {
        "id": "h1FU62rc7wlj"
      },
      "outputs": [],
      "source": [
        "predictions1['Y_train_optimised'] = Y_train_optimised\n",
        "predictions1.head()"
      ]
    },
    {
      "cell_type": "code",
      "execution_count": null,
      "metadata": {
        "id": "78ODwRzH7zx-"
      },
      "outputs": [],
      "source": [
        "sns.scatterplot(x=Y_train, y=Y_train_optimised, alpha=0.6)\n",
        "sns.lineplot(x=Y_train, y=Y_train)\n",
        "plt.xlabel('Actual', fontsize = 14)\n",
        "plt.ylabel('Predicted', fontsize = 14)\n",
        "plt.title('Actual vs Optimised Predicted', fontsize = 17)\n",
        "plt.show()"
      ]
    },
    {
      "cell_type": "code",
      "execution_count": null,
      "metadata": {
        "id": "8XXIBvPA721M"
      },
      "outputs": [],
      "source": [
        "print('The training r_sq is: %.4f'% model.score(X_train, Y_train_optimised))"
      ]
    },
    {
      "cell_type": "code",
      "execution_count": null,
      "metadata": {
        "id": "w7zUhWfJ74wD"
      },
      "outputs": [],
      "source": [
        "print('The MAE is: %.4f'% mean_absolute_error(Y_train, Y_train_optimised))"
      ]
    },
    {
      "cell_type": "code",
      "execution_count": null,
      "metadata": {
        "id": "KoG_3uPW769d"
      },
      "outputs": [],
      "source": [
        "print('The RMSE is: %.4f'% np.sqrt(mean_squared_error(Y_train, Y_train_optimised)))"
      ]
    },
    {
      "cell_type": "code",
      "execution_count": null,
      "metadata": {
        "id": "7OrWqthF79L3"
      },
      "outputs": [],
      "source": [
        "print('The EVS is: %.4f'% explained_variance_score(Y_train, Y_train_optimised))"
      ]
    },
    {
      "cell_type": "code",
      "execution_count": null,
      "metadata": {
        "id": "I1Hze2Z-8J9E"
      },
      "outputs": [],
      "source": [
        "plt.rcParams['figure.figsize'] = 10,6\n",
        "x_ax = range(len(X_train))\n",
        "plt.plot(x_ax, Y_train, label = 'Observed', color = 'k', linestyle = '-')\n",
        "plt.plot(x_ax, Y_train_optimised, label = 'Optimised Predicted', color = 'k', linestyle = '--')\n",
        "plt.ylabel('pCC50')\n",
        "plt.xlabel('Experimental Run')\n",
        "plt.legend(bbox_to_anchor = (0.5, -0.2), loc = 'lower center', ncol = 2, frameon = False)"
      ]
    },
    {
      "cell_type": "code",
      "execution_count": null,
      "metadata": {
        "id": "YHhnbeIICQj1"
      },
      "outputs": [],
      "source": [
        "from yellowbrick.regressor import ResidualsPlot\n",
        "visualizer = ResidualsPlot(model)\n",
        "visualizer.fit(X_train, Y_train_optimised)\n",
        "visualizer.score(X_test, Y_test_optimised)\n",
        "visualizer.poof()"
      ]
    },
    {
      "cell_type": "code",
      "execution_count": null,
      "metadata": {
        "id": "i1C1q7du8Ndo"
      },
      "outputs": [],
      "source": [
        "features = list(X_train.columns)"
      ]
    },
    {
      "cell_type": "code",
      "execution_count": null,
      "metadata": {
        "id": "vP7wPCPB8Pe9"
      },
      "outputs": [],
      "source": [
        "features"
      ]
    },
    {
      "cell_type": "code",
      "execution_count": null,
      "metadata": {
        "id": "7Zz_xGmT8TZD"
      },
      "outputs": [],
      "source": [
        "RFR = RandomForestRegressor(random_state=seed, n_estimators = 100, max_features='sqrt', max_depth=10)"
      ]
    },
    {
      "cell_type": "code",
      "execution_count": null,
      "metadata": {
        "id": "SqtsnC-M8V4D"
      },
      "outputs": [],
      "source": [
        "RFR.fit(X_train, Y_train)"
      ]
    },
    {
      "cell_type": "code",
      "execution_count": null,
      "metadata": {
        "id": "86Va_Gnw8YiE"
      },
      "outputs": [],
      "source": [
        "importance = RFR.feature_importances_\n",
        "importance"
      ]
    },
    {
      "cell_type": "code",
      "execution_count": null,
      "metadata": {
        "id": "jigWszpp8b0B"
      },
      "outputs": [],
      "source": [
        "FIM = pd.DataFrame({'features' : features, 'feature_importances' : importance})\n",
        "FIM"
      ]
    },
    {
      "cell_type": "code",
      "execution_count": null,
      "metadata": {
        "id": "wNaYr0GA8fDQ"
      },
      "outputs": [],
      "source": [
        "fig = plt.figure(dpi=800)\n",
        "plt.figure(figsize=(10,20))\n",
        "plt.title('feature importances')\n",
        "sns.barplot(y='features', x='feature_importances', data=FIM)\n",
        "plt.savefig('figrfr2.png')\n",
        "\n",
        "plt.show()"
      ]
    },
    {
      "cell_type": "code",
      "execution_count": null,
      "metadata": {
        "id": "v_oRJTxF8iDj"
      },
      "outputs": [],
      "source": [
        "!pip install shap"
      ]
    },
    {
      "cell_type": "code",
      "execution_count": null,
      "metadata": {
        "id": "08BZoMzD8j-M"
      },
      "outputs": [],
      "source": [
        "import shap\n",
        "X = df2.drop(['pCC50'],axis = 1)\n",
        "explainer = shap.TreeExplainer(model,feature_perturbation=\"tree_path_dependent\")\n",
        "shap_values = explainer.shap_values(X)"
      ]
    },
    {
      "cell_type": "code",
      "execution_count": null,
      "metadata": {
        "id": "dnpQHFVS8nQr"
      },
      "outputs": [],
      "source": [
        "plt.figure(dpi=300)\n",
        "shap.summary_plot(shap_values, X,show=False,color_bar=False)\n",
        "plt.xlabel(\"SHAP value of pCC50 model\" ,fontweight='bold',fontsize=6)\n",
        "plt.tick_params(labelsize=6,)\n",
        "plt.savefig('figrfr3.png')\n",
        "\n",
        "plt.show()"
      ]
    }
  ],
  "metadata": {
    "colab": {
      "provenance": []
    },
    "kernelspec": {
      "display_name": "Python 3",
      "name": "python3"
    },
    "language_info": {
      "name": "python"
    }
  },
  "nbformat": 4,
  "nbformat_minor": 0
}