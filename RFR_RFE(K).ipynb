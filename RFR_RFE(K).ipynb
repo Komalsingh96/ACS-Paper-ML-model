{
  "nbformat": 4,
  "nbformat_minor": 0,
  "metadata": {
    "colab": {
      "provenance": []
    },
    "kernelspec": {
      "name": "python3",
      "display_name": "Python 3"
    },
    "language_info": {
      "name": "python"
    }
  },
  "cells": [
    {
      "cell_type": "code",
      "execution_count": null,
      "metadata": {
        "id": "lHgC-Myxgvkj"
      },
      "outputs": [],
      "source": [
        "import pandas as pd\n",
        "import numpy as np\n",
        "import matplotlib.pyplot as plt\n",
        "import sklearn\n",
        "import seaborn as sns\n",
        "import matplotlib.pyplot as plt"
      ]
    },
    {
      "cell_type": "code",
      "source": [
        "from sklearn.model_selection import train_test_split\n",
        "from sklearn.feature_selection import RFE\n",
        "from sklearn.ensemble import RandomForestRegressor\n",
        "from sklearn.feature_selection import SelectFromModel\n",
        "from sklearn.metrics import accuracy_score"
      ],
      "metadata": {
        "id": "JjQloAXLg6jA"
      },
      "execution_count": null,
      "outputs": []
    },
    {
      "cell_type": "markdown",
      "source": [
        "Load DATA"
      ],
      "metadata": {
        "id": "496HCLKXhA98"
      }
    },
    {
      "cell_type": "code",
      "source": [
        "from google.colab import drive\n",
        "drive.mount('/content/drive')"
      ],
      "metadata": {
        "id": "8LJGayAshBqE"
      },
      "execution_count": null,
      "outputs": []
    },
    {
      "cell_type": "code",
      "source": [
        "df = pd.read_csv(\"/content/drive/MyDrive/Dataset/Descriptors_finalK.csv\")\n",
        "df"
      ],
      "metadata": {
        "id": "Bun_PGRmhMPN"
      },
      "execution_count": null,
      "outputs": []
    },
    {
      "cell_type": "code",
      "source": [
        "print(df.columns)"
      ],
      "metadata": {
        "id": "WqV1SyPZhpHK"
      },
      "execution_count": null,
      "outputs": []
    },
    {
      "cell_type": "markdown",
      "source": [
        "Checking for Null Values"
      ],
      "metadata": {
        "id": "VwSoJ2O9hrR0"
      }
    },
    {
      "cell_type": "code",
      "source": [
        "df.isnull()"
      ],
      "metadata": {
        "id": "HJhmpmTNhsXP"
      },
      "execution_count": null,
      "outputs": []
    },
    {
      "cell_type": "code",
      "source": [
        "df.isnull().sum()"
      ],
      "metadata": {
        "id": "wwLov_4Thx6i"
      },
      "execution_count": null,
      "outputs": []
    },
    {
      "cell_type": "code",
      "source": [
        "df.isnull().sum().sum()"
      ],
      "metadata": {
        "id": "weeSIIwHh0H8"
      },
      "execution_count": null,
      "outputs": []
    },
    {
      "cell_type": "code",
      "source": [
        "df2 = df.fillna(value = 0) \n",
        "df2"
      ],
      "metadata": {
        "id": "EWOSzJULh2oq"
      },
      "execution_count": null,
      "outputs": []
    },
    {
      "cell_type": "code",
      "source": [
        "df2.isnull().sum().sum()"
      ],
      "metadata": {
        "id": "wOvlNmehh7E-"
      },
      "execution_count": null,
      "outputs": []
    },
    {
      "cell_type": "markdown",
      "source": [
        "Input and Output Preparation"
      ],
      "metadata": {
        "id": "DgnrENcmh-Rt"
      }
    },
    {
      "cell_type": "code",
      "source": [
        "X = df2.drop(['pCC50'],axis = 1)\n",
        "X"
      ],
      "metadata": {
        "id": "IdFDCONIh_Nh"
      },
      "execution_count": null,
      "outputs": []
    },
    {
      "cell_type": "code",
      "source": [
        "Y = df2.pCC50\n",
        "Y"
      ],
      "metadata": {
        "id": "YXvRixdmiC-e"
      },
      "execution_count": null,
      "outputs": []
    },
    {
      "cell_type": "markdown",
      "source": [
        "Initiation of Recursive Feature Elimination (RFE) for Random Forest Regresso"
      ],
      "metadata": {
        "id": "8RNAuqFbiGZe"
      }
    },
    {
      "cell_type": "code",
      "source": [
        "rfr = RandomForestRegressor(random_state=30)\n",
        "sel = RFE(estimator=rfr, n_features_to_select=50)\n",
        "sel.fit(X, Y)\n",
        "sel.get_support()"
      ],
      "metadata": {
        "id": "2TFRjXbpiHUq"
      },
      "execution_count": null,
      "outputs": []
    },
    {
      "cell_type": "code",
      "source": [
        "len(sel.get_support())"
      ],
      "metadata": {
        "id": "ZXkm_E-nkS-u"
      },
      "execution_count": null,
      "outputs": []
    },
    {
      "cell_type": "code",
      "source": [
        "features = X.columns[sel.get_support()]"
      ],
      "metadata": {
        "id": "QZPSZP01kVWh"
      },
      "execution_count": null,
      "outputs": []
    },
    {
      "cell_type": "code",
      "source": [
        "features"
      ],
      "metadata": {
        "id": "gfLLighwkXre"
      },
      "execution_count": null,
      "outputs": []
    }
  ]
}